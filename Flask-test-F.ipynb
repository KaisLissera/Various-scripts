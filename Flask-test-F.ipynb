{
 "cells": [
  {
   "cell_type": "code",
   "execution_count": 3,
   "metadata": {},
   "outputs": [],
   "source": [
    "from flask import Flask\n",
    "import datetime\n",
    "\n",
    "app = Flask(__name__)\n",
    "\n",
    "@app.route(\"/today/\")\n",
    "def today():\n",
    "    now = datetime.datetime.now()\n",
    "    day = now.day\n",
    "    mounth = now.month\n",
    "    year = now.year\n",
    "    return f\"\"\"<h1 align=\"center\"><font color=\"red\"><i> Today's date is {day}.{mounth}.{year}.<i><font><h1>\"\"\"\n",
    "\n",
    "@app.route(\"/tomorrow/\")\n",
    "def tomorrow():\n",
    "    now = datetime.datetime.now()\n",
    "    delta = datetime.timedelta(days = 1)\n",
    "    now = now + delta\n",
    "    day = now.day\n",
    "    mounth = now.month\n",
    "    year = now.year\n",
    "    return f\"\"\"<h1 align=\"center\"><font color=\"blue\"><i> Tomorrow's date is {day}.{mounth}.{year}.<i><font><h1>\"\"\""
   ]
  },
  {
   "cell_type": "code",
   "execution_count": 4,
   "metadata": {},
   "outputs": [
    {
     "name": "stdout",
     "output_type": "stream",
     "text": [
      " * Serving Flask app '__main__'\n",
      " * Debug mode: off\n"
     ]
    },
    {
     "name": "stderr",
     "output_type": "stream",
     "text": [
      "WARNING: This is a development server. Do not use it in a production deployment. Use a production WSGI server instead.\n",
      " * Running on all addresses (0.0.0.0)\n",
      " * Running on http://127.0.0.1:8080\n",
      " * Running on http://192.168.0.54:8080\n",
      "Press CTRL+C to quit\n"
     ]
    },
    {
     "name": "stderr",
     "output_type": "stream",
     "text": [
      "127.0.0.1 - - [01/Oct/2023 12:36:43] \"GET /hello/ HTTP/1.1\" 404 -\n",
      "127.0.0.1 - - [01/Oct/2023 12:36:53] \"GET /today/ HTTP/1.1\" 200 -\n",
      "127.0.0.1 - - [01/Oct/2023 12:36:59] \"GET /tomorrow/ HTTP/1.1\" 200 -\n"
     ]
    }
   ],
   "source": [
    "app.run(\"0.0.0.0\", 8080)"
   ]
  }
 ],
 "metadata": {
  "kernelspec": {
   "display_name": "Python 3",
   "language": "python",
   "name": "python3"
  },
  "language_info": {
   "codemirror_mode": {
    "name": "ipython",
    "version": 3
   },
   "file_extension": ".py",
   "mimetype": "text/x-python",
   "name": "python",
   "nbconvert_exporter": "python",
   "pygments_lexer": "ipython3",
   "version": "3.11.5"
  },
  "orig_nbformat": 4
 },
 "nbformat": 4,
 "nbformat_minor": 2
}
